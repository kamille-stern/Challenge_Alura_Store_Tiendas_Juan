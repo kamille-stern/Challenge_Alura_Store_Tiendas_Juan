{
  "nbformat": 4,
  "nbformat_minor": 0,
  "metadata": {
    "colab": {
      "provenance": []
    },
    "kernelspec": {
      "name": "python3",
      "display_name": "Python 3"
    },
    "language_info": {
      "name": "python"
    }
  },
  "cells": [
    {
      "cell_type": "markdown",
      "source": [
        "### Importación de datos\n",
        "\n"
      ],
      "metadata": {
        "id": "RhEdWd9YUR6H"
      }
    },
    {
      "cell_type": "code",
      "execution_count": 1,
      "metadata": {
        "id": "T3EvaeQ_INIL"
      },
      "outputs": [],
      "source": [
        "import pandas as pd\n",
        "\n",
        "url1 = \"https://raw.githubusercontent.com/alura-es-cursos/challenge1-data-science-latam/refs/heads/main/base-de-datos-challenge1-latam/tienda_1%20.csv\"\n",
        "url2 = \"https://raw.githubusercontent.com/alura-es-cursos/challenge1-data-science-latam/refs/heads/main/base-de-datos-challenge1-latam/tienda_2.csv\"\n",
        "url3 = \"https://raw.githubusercontent.com/alura-es-cursos/challenge1-data-science-latam/refs/heads/main/base-de-datos-challenge1-latam/tienda_3.csv\"\n",
        "url4 = \"https://raw.githubusercontent.com/alura-es-cursos/challenge1-data-science-latam/refs/heads/main/base-de-datos-challenge1-latam/tienda_4.csv\"\n",
        "\n",
        "tienda1 = pd.read_csv(url1)\n",
        "tienda2 = pd.read_csv(url2)\n",
        "tienda3 = pd.read_csv(url3)\n",
        "tienda4 = pd.read_csv(url4)"
      ]
    },
    {
      "cell_type": "markdown",
      "source": [
        "### Detalle de tablas"
      ],
      "metadata": {
        "id": "RKDOxE3lGzoX"
      }
    },
    {
      "cell_type": "markdown",
      "source": [
        "##### Todas las tablas manejan el mismo encabezado (nombre de columna) y no hay filas en blanco"
      ],
      "metadata": {
        "id": "xg8dsfCdHRsK"
      }
    },
    {
      "cell_type": "code",
      "source": [
        "tienda1.info()"
      ],
      "metadata": {
        "colab": {
          "base_uri": "https://localhost:8080/"
        },
        "id": "RYNL_4_yGzNG",
        "outputId": "4dd06320-6dbf-4f1d-faf4-90ce4c53d54c"
      },
      "execution_count": 2,
      "outputs": [
        {
          "output_type": "stream",
          "name": "stdout",
          "text": [
            "<class 'pandas.core.frame.DataFrame'>\n",
            "RangeIndex: 2359 entries, 0 to 2358\n",
            "Data columns (total 12 columns):\n",
            " #   Column                  Non-Null Count  Dtype  \n",
            "---  ------                  --------------  -----  \n",
            " 0   Producto                2359 non-null   object \n",
            " 1   Categoría del Producto  2359 non-null   object \n",
            " 2   Precio                  2359 non-null   float64\n",
            " 3   Costo de envío          2359 non-null   float64\n",
            " 4   Fecha de Compra         2359 non-null   object \n",
            " 5   Vendedor                2359 non-null   object \n",
            " 6   Lugar de Compra         2359 non-null   object \n",
            " 7   Calificación            2359 non-null   int64  \n",
            " 8   Método de pago          2359 non-null   object \n",
            " 9   Cantidad de cuotas      2359 non-null   int64  \n",
            " 10  lat                     2359 non-null   float64\n",
            " 11  lon                     2359 non-null   float64\n",
            "dtypes: float64(4), int64(2), object(6)\n",
            "memory usage: 221.3+ KB\n"
          ]
        }
      ]
    },
    {
      "cell_type": "code",
      "source": [
        "tienda2.info()"
      ],
      "metadata": {
        "colab": {
          "base_uri": "https://localhost:8080/"
        },
        "id": "aiDB0w2uHA8I",
        "outputId": "92f19ab0-1a2f-43bd-9eb1-e1fb45a19d60"
      },
      "execution_count": 3,
      "outputs": [
        {
          "output_type": "stream",
          "name": "stdout",
          "text": [
            "<class 'pandas.core.frame.DataFrame'>\n",
            "RangeIndex: 2359 entries, 0 to 2358\n",
            "Data columns (total 12 columns):\n",
            " #   Column                  Non-Null Count  Dtype  \n",
            "---  ------                  --------------  -----  \n",
            " 0   Producto                2359 non-null   object \n",
            " 1   Categoría del Producto  2359 non-null   object \n",
            " 2   Precio                  2359 non-null   float64\n",
            " 3   Costo de envío          2359 non-null   float64\n",
            " 4   Fecha de Compra         2359 non-null   object \n",
            " 5   Vendedor                2359 non-null   object \n",
            " 6   Lugar de Compra         2359 non-null   object \n",
            " 7   Calificación            2359 non-null   int64  \n",
            " 8   Método de pago          2359 non-null   object \n",
            " 9   Cantidad de cuotas      2359 non-null   int64  \n",
            " 10  lat                     2359 non-null   float64\n",
            " 11  lon                     2359 non-null   float64\n",
            "dtypes: float64(4), int64(2), object(6)\n",
            "memory usage: 221.3+ KB\n"
          ]
        }
      ]
    },
    {
      "cell_type": "code",
      "source": [
        "tienda3.info()"
      ],
      "metadata": {
        "colab": {
          "base_uri": "https://localhost:8080/"
        },
        "id": "eAID2mpJHJsT",
        "outputId": "8573fecc-fd5e-4d23-b016-fc128d439c1a"
      },
      "execution_count": 4,
      "outputs": [
        {
          "output_type": "stream",
          "name": "stdout",
          "text": [
            "<class 'pandas.core.frame.DataFrame'>\n",
            "RangeIndex: 2359 entries, 0 to 2358\n",
            "Data columns (total 12 columns):\n",
            " #   Column                  Non-Null Count  Dtype  \n",
            "---  ------                  --------------  -----  \n",
            " 0   Producto                2359 non-null   object \n",
            " 1   Categoría del Producto  2359 non-null   object \n",
            " 2   Precio                  2359 non-null   float64\n",
            " 3   Costo de envío          2359 non-null   float64\n",
            " 4   Fecha de Compra         2359 non-null   object \n",
            " 5   Vendedor                2359 non-null   object \n",
            " 6   Lugar de Compra         2359 non-null   object \n",
            " 7   Calificación            2359 non-null   int64  \n",
            " 8   Método de pago          2359 non-null   object \n",
            " 9   Cantidad de cuotas      2359 non-null   int64  \n",
            " 10  lat                     2359 non-null   float64\n",
            " 11  lon                     2359 non-null   float64\n",
            "dtypes: float64(4), int64(2), object(6)\n",
            "memory usage: 221.3+ KB\n"
          ]
        }
      ]
    },
    {
      "cell_type": "code",
      "source": [
        "tienda4.info()"
      ],
      "metadata": {
        "colab": {
          "base_uri": "https://localhost:8080/"
        },
        "id": "-RjaQ9AqHNxF",
        "outputId": "d78c639a-b118-41f6-e96d-d3b7c06e466b"
      },
      "execution_count": 5,
      "outputs": [
        {
          "output_type": "stream",
          "name": "stdout",
          "text": [
            "<class 'pandas.core.frame.DataFrame'>\n",
            "RangeIndex: 2358 entries, 0 to 2357\n",
            "Data columns (total 12 columns):\n",
            " #   Column                  Non-Null Count  Dtype  \n",
            "---  ------                  --------------  -----  \n",
            " 0   Producto                2358 non-null   object \n",
            " 1   Categoría del Producto  2358 non-null   object \n",
            " 2   Precio                  2358 non-null   float64\n",
            " 3   Costo de envío          2358 non-null   float64\n",
            " 4   Fecha de Compra         2358 non-null   object \n",
            " 5   Vendedor                2358 non-null   object \n",
            " 6   Lugar de Compra         2358 non-null   object \n",
            " 7   Calificación            2358 non-null   int64  \n",
            " 8   Método de pago          2358 non-null   object \n",
            " 9   Cantidad de cuotas      2358 non-null   int64  \n",
            " 10  lat                     2358 non-null   float64\n",
            " 11  lon                     2358 non-null   float64\n",
            "dtypes: float64(4), int64(2), object(6)\n",
            "memory usage: 221.2+ KB\n"
          ]
        }
      ]
    },
    {
      "cell_type": "markdown",
      "source": [
        "#1. Análisis de facturación\n",
        "\n"
      ],
      "metadata": {
        "id": "X62IW3KFUIYm"
      }
    },
    {
      "cell_type": "code",
      "source": [
        "def facturacion_total(df, nombre_tienda):\n",
        "    total = df['Precio'].sum()\n",
        "    return pd.DataFrame({'Tienda': [nombre_tienda], 'Facturación Total': [total]})"
      ],
      "metadata": {
        "id": "ljV0QERTHNAY"
      },
      "execution_count": 8,
      "outputs": []
    },
    {
      "cell_type": "code",
      "source": [
        "fact_t1 = facturacion_total(tienda1, 'Tienda 1')\n",
        "fact_t2 = facturacion_total(tienda2, 'Tienda 2')\n",
        "fact_t3 = facturacion_total(tienda3, 'Tienda 3')\n",
        "fact_t4 = facturacion_total(tienda4, 'Tienda 4')"
      ],
      "metadata": {
        "id": "xykobSftV64I"
      },
      "execution_count": 9,
      "outputs": []
    },
    {
      "cell_type": "code",
      "source": [
        "facturacion = pd.concat([fact_t1, fact_t2, fact_t3, fact_t4])\n",
        "facturacion = facturacion.sort_values(by='Facturación Total', ascending=False).reset_index(drop=True)"
      ],
      "metadata": {
        "id": "KDyr8E71V3m-"
      },
      "execution_count": 10,
      "outputs": []
    },
    {
      "cell_type": "code",
      "source": [
        "facturacion['Facturación Total (En miles)'] = (facturacion['Facturación Total'] / 1_000).round(2)"
      ],
      "metadata": {
        "id": "_nJVHBzG0sdT"
      },
      "execution_count": 11,
      "outputs": []
    },
    {
      "cell_type": "code",
      "source": [
        "facturacion_tiendas = facturacion.drop(columns=['Facturación Total'])"
      ],
      "metadata": {
        "id": "B7fNIgbvzjsf"
      },
      "execution_count": 12,
      "outputs": []
    },
    {
      "cell_type": "code",
      "source": [
        "print(\"Facturación total por tienda:\")\n",
        "print(facturacion_tiendas)"
      ],
      "metadata": {
        "colab": {
          "base_uri": "https://localhost:8080/"
        },
        "id": "BGfFnX751hXg",
        "outputId": "e976cb2d-9005-44c5-9794-804a792e2ddb"
      },
      "execution_count": 13,
      "outputs": [
        {
          "output_type": "stream",
          "name": "stdout",
          "text": [
            "Facturación total por tienda:\n",
            "     Tienda  Facturación Total (En miles)\n",
            "0  Tienda 1                     1150880.4\n",
            "1  Tienda 2                     1116343.5\n",
            "2  Tienda 3                     1098019.6\n",
            "3  Tienda 4                     1038375.7\n"
          ]
        }
      ]
    },
    {
      "cell_type": "markdown",
      "source": [
        "#### Segmentación por año"
      ],
      "metadata": {
        "id": "HND1Crb0qVYK"
      }
    },
    {
      "cell_type": "code",
      "source": [
        "def totales_anual(df):\n",
        "    df['Fecha de Compra'] = pd.to_datetime(df['Fecha de Compra'], format='%d/%m/%Y')\n",
        "    df['Año'] = df['Fecha de Compra'].dt.year\n",
        "    resumen = df.groupby('Año')['Precio'].sum()\n",
        "    return resumen"
      ],
      "metadata": {
        "id": "4GMTZQ8sqUSZ"
      },
      "execution_count": 14,
      "outputs": []
    },
    {
      "cell_type": "code",
      "source": [
        "anual_t1 = totales_anual(tienda1).rename('Tienda 1')\n",
        "anual_t2 = totales_anual(tienda2).rename('Tienda 2')\n",
        "anual_t3 = totales_anual(tienda3).rename('Tienda 3')\n",
        "anual_t4 = totales_anual(tienda4).rename('Tienda 4')"
      ],
      "metadata": {
        "id": "i0zDky0Zq6W9"
      },
      "execution_count": 15,
      "outputs": []
    },
    {
      "cell_type": "code",
      "source": [
        "df_anual = pd.concat([anual_t1, anual_t2, anual_t3, anual_t4], axis=1)\n",
        "df_anual.loc['Total'] = df_anual.sum()"
      ],
      "metadata": {
        "id": "OwJk1UHkq1zL"
      },
      "execution_count": 16,
      "outputs": []
    },
    {
      "cell_type": "code",
      "source": [
        "df_anual['Tienda 1'] = (df_anual['Tienda 1']/1_000).round(2)\n",
        "df_anual['Tienda 2'] = (df_anual['Tienda 2']/1_000).round(2)\n",
        "df_anual['Tienda 3'] = (df_anual['Tienda 3']/1_000).round(2)\n",
        "df_anual['Tienda 4'] = (df_anual['Tienda 4']/1_000).round(2)"
      ],
      "metadata": {
        "id": "qptCaExzr6yp"
      },
      "execution_count": 17,
      "outputs": []
    },
    {
      "cell_type": "code",
      "source": [
        "print(\"📆 Facturación total por año y tienda:\")\n",
        "print(df_anual)"
      ],
      "metadata": {
        "colab": {
          "base_uri": "https://localhost:8080/"
        },
        "id": "1y_Zpyjaq08P",
        "outputId": "12daf12c-e7c8-4ef3-e75c-5f952e449924"
      },
      "execution_count": 18,
      "outputs": [
        {
          "output_type": "stream",
          "name": "stdout",
          "text": [
            "📆 Facturación total por año y tienda:\n",
            "        Tienda 1   Tienda 2   Tienda 3   Tienda 4\n",
            "Año                                              \n",
            "2020    368933.2   320466.6   321707.5   330847.7\n",
            "2021    362120.8   351215.5   362954.4   347823.6\n",
            "2022    316565.6   358226.5   350438.3   302221.5\n",
            "2023    103260.8    86434.9    62919.4    57482.9\n",
            "Total  1150880.4  1116343.5  1098019.6  1038375.7\n"
          ]
        }
      ]
    },
    {
      "cell_type": "markdown",
      "source": [
        "# 2. Ventas por categoría"
      ],
      "metadata": {
        "id": "2V_vcAPzWZmR"
      }
    },
    {
      "cell_type": "code",
      "source": [
        "def categorias_populares(df, nombre_tienda, top_n=5):\n",
        "    conteo_cat = df['Categoría del Producto'].value_counts().head(top_n)\n",
        "    print(f\"\\nTop {top_n} categorías más populares en {nombre_tienda}:\")\n",
        "    print(conteo_cat)\n",
        "    return conteo_cat"
      ],
      "metadata": {
        "id": "A34YupIuYhfF"
      },
      "execution_count": 19,
      "outputs": []
    },
    {
      "cell_type": "code",
      "source": [
        "cat_t1 = categorias_populares(tienda1, 'Tienda 1')\n",
        "cat_t2 = categorias_populares(tienda2, 'Tienda 2')\n",
        "cat_t3 = categorias_populares(tienda3, 'Tienda 3')\n",
        "cat_t4 = categorias_populares(tienda4, 'Tienda 4')"
      ],
      "metadata": {
        "id": "yZR6cOjXYSk1",
        "colab": {
          "base_uri": "https://localhost:8080/"
        },
        "outputId": "e5cd05b4-15db-4364-af48-29078f0481cf"
      },
      "execution_count": 20,
      "outputs": [
        {
          "output_type": "stream",
          "name": "stdout",
          "text": [
            "\n",
            "Top 5 categorías más populares en Tienda 1:\n",
            "Categoría del Producto\n",
            "Muebles                 465\n",
            "Electrónicos            448\n",
            "Juguetes                324\n",
            "Electrodomésticos       312\n",
            "Deportes y diversión    284\n",
            "Name: count, dtype: int64\n",
            "\n",
            "Top 5 categorías más populares en Tienda 2:\n",
            "Categoría del Producto\n",
            "Muebles                 442\n",
            "Electrónicos            422\n",
            "Juguetes                313\n",
            "Electrodomésticos       305\n",
            "Deportes y diversión    275\n",
            "Name: count, dtype: int64\n",
            "\n",
            "Top 5 categorías más populares en Tienda 3:\n",
            "Categoría del Producto\n",
            "Muebles                 499\n",
            "Electrónicos            451\n",
            "Juguetes                315\n",
            "Electrodomésticos       278\n",
            "Deportes y diversión    277\n",
            "Name: count, dtype: int64\n",
            "\n",
            "Top 5 categorías más populares en Tienda 4:\n",
            "Categoría del Producto\n",
            "Muebles                 480\n",
            "Electrónicos            451\n",
            "Juguetes                338\n",
            "Deportes y diversión    277\n",
            "Electrodomésticos       254\n",
            "Name: count, dtype: int64\n"
          ]
        }
      ]
    },
    {
      "cell_type": "code",
      "source": [
        "df_categorias = pd.DataFrame({\n",
        "    'Tienda 1': cat_t1,\n",
        "    'Tienda 2': cat_t2,\n",
        "    'Tienda 3': cat_t3,\n",
        "    'Tienda 4': cat_t4\n",
        "})"
      ],
      "metadata": {
        "id": "2VBbcx3X7Rvz"
      },
      "execution_count": 21,
      "outputs": []
    },
    {
      "cell_type": "code",
      "source": [
        "df_categorias['Total'] = df_categorias[['Tienda 1', 'Tienda 2', 'Tienda 3', 'Tienda 4']].sum(axis=1)"
      ],
      "metadata": {
        "id": "Ibje8qtFzR-H"
      },
      "execution_count": 22,
      "outputs": []
    },
    {
      "cell_type": "code",
      "source": [
        "df_categorias = df_categorias.sort_values(by='Total', ascending=False)"
      ],
      "metadata": {
        "id": "eQCZ7kFuzh1u"
      },
      "execution_count": 23,
      "outputs": []
    },
    {
      "cell_type": "code",
      "source": [
        "print(\"\\nTop 5 productos más populares por tienda:\")\n",
        "print(df_categorias)"
      ],
      "metadata": {
        "colab": {
          "base_uri": "https://localhost:8080/"
        },
        "id": "y4bi7acJ7V-h",
        "outputId": "655e9286-b325-43b8-df6d-a1c5eb734965"
      },
      "execution_count": 24,
      "outputs": [
        {
          "output_type": "stream",
          "name": "stdout",
          "text": [
            "\n",
            "Top 5 productos más populares por tienda:\n",
            "                        Tienda 1  Tienda 2  Tienda 3  Tienda 4  Total\n",
            "Categoría del Producto                                               \n",
            "Muebles                      465       442       499       480   1886\n",
            "Electrónicos                 448       422       451       451   1772\n",
            "Juguetes                     324       313       315       338   1290\n",
            "Electrodomésticos            312       305       278       254   1149\n",
            "Deportes y diversión         284       275       277       277   1113\n"
          ]
        }
      ]
    },
    {
      "cell_type": "markdown",
      "source": [
        "#### Precio promedio por categoría"
      ],
      "metadata": {
        "id": "-ufsBS_T3Jay"
      }
    },
    {
      "cell_type": "code",
      "source": [
        "df_todas_las_tiendas = pd.concat([tienda1, tienda2, tienda3, tienda4], ignore_index=True)\n",
        "precio_promedio_por_categoria = df_todas_las_tiendas.groupby('Categoría del Producto')['Precio'].mean().reset_index()\n",
        "precio_promedio_por_categoria = precio_promedio_por_categoria.sort_values(by='Precio', ascending=False)\n",
        "print(precio_promedio_por_categoria)"
      ],
      "metadata": {
        "colab": {
          "base_uri": "https://localhost:8080/"
        },
        "id": "JIe1dH5o3HjV",
        "outputId": "c3db9032-63dc-4af3-c851-4f940423f671"
      },
      "execution_count": 25,
      "outputs": [
        {
          "output_type": "stream",
          "name": "stdout",
          "text": [
            "    Categoría del Producto        Precio\n",
            "2        Electrodomésticos  1.152960e+06\n",
            "3             Electrónicos  9.371199e+05\n",
            "4   Instrumentos musicales  4.631774e+05\n",
            "7                  Muebles  4.017291e+05\n",
            "1     Deportes y diversión  1.284615e+05\n",
            "0  Artículos para el hogar  7.887644e+04\n",
            "5                 Juguetes  5.705767e+04\n",
            "6                   Libros  5.080337e+04\n"
          ]
        }
      ]
    },
    {
      "cell_type": "markdown",
      "source": [
        "# 3. Calificación promedio de la tienda\n"
      ],
      "metadata": {
        "id": "Rq6tU_xSY3jk"
      }
    },
    {
      "cell_type": "code",
      "source": [
        "def promedio_evaluacion(df, nombre_tienda):\n",
        "    promedio = df['Calificación'].mean()\n",
        "    print(f\"Promedio de evaluación en {nombre_tienda}: {promedio:.2f}\")\n",
        "    return promedio"
      ],
      "metadata": {
        "id": "bh3jjjJwY5MU"
      },
      "execution_count": 26,
      "outputs": []
    },
    {
      "cell_type": "code",
      "source": [
        "prom_t1 = promedio_evaluacion(tienda1, 'Tienda 1')\n",
        "prom_t2 = promedio_evaluacion(tienda2, 'Tienda 2')\n",
        "prom_t3 = promedio_evaluacion(tienda3, 'Tienda 3')\n",
        "prom_t4 = promedio_evaluacion(tienda4, 'Tienda 4')"
      ],
      "metadata": {
        "id": "I0KkjPoTY88F",
        "colab": {
          "base_uri": "https://localhost:8080/"
        },
        "outputId": "d3e6c356-0df0-4bed-e86d-1f2e6781a780"
      },
      "execution_count": 27,
      "outputs": [
        {
          "output_type": "stream",
          "name": "stdout",
          "text": [
            "Promedio de evaluación en Tienda 1: 3.98\n",
            "Promedio de evaluación en Tienda 2: 4.04\n",
            "Promedio de evaluación en Tienda 3: 4.05\n",
            "Promedio de evaluación en Tienda 4: 4.00\n"
          ]
        }
      ]
    },
    {
      "cell_type": "code",
      "source": [
        "promedios = pd.DataFrame({\n",
        "    'Tienda': ['Tienda 1', 'Tienda 2', 'Tienda 3', 'Tienda 4'],\n",
        "    'Promedio de Evaluación': [prom_t1, prom_t2, prom_t3, prom_t4]\n",
        "}).sort_values(by='Promedio de Evaluación', ascending=False)"
      ],
      "metadata": {
        "id": "2xOpWThsUhef"
      },
      "execution_count": 28,
      "outputs": []
    },
    {
      "cell_type": "code",
      "source": [
        "promedios = promedios.round(2)"
      ],
      "metadata": {
        "id": "iGIRqLM-upIZ"
      },
      "execution_count": 29,
      "outputs": []
    },
    {
      "cell_type": "code",
      "source": [
        "print(\"Resumen de promedios de evaluación:\")\n",
        "print(promedios)"
      ],
      "metadata": {
        "colab": {
          "base_uri": "https://localhost:8080/"
        },
        "id": "eaK3SmGMUjMV",
        "outputId": "3a18aa3f-6708-474d-88b9-25e175d7ee2d"
      },
      "execution_count": 30,
      "outputs": [
        {
          "output_type": "stream",
          "name": "stdout",
          "text": [
            "Resumen de promedios de evaluación:\n",
            "     Tienda  Promedio de Evaluación\n",
            "2  Tienda 3                    4.05\n",
            "1  Tienda 2                    4.04\n",
            "3  Tienda 4                    4.00\n",
            "0  Tienda 1                    3.98\n"
          ]
        }
      ]
    },
    {
      "cell_type": "markdown",
      "source": [
        "#### Segmentación por año"
      ],
      "metadata": {
        "id": "-CR9IclCuBN7"
      }
    },
    {
      "cell_type": "code",
      "source": [
        "def promedio_evaluacion_anual(df, nombre_tienda):\n",
        "    # Convertir fecha a datetime\n",
        "    df['Fecha de Compra'] = pd.to_datetime(df['Fecha de Compra'], format='%d/%m/%Y')\n",
        "    df['Año'] = df['Fecha de Compra'].dt.year\n",
        "\n",
        "    # Agrupar por año y calcular promedio de evaluación\n",
        "    promedio_anual = df.groupby('Año')['Calificación'].mean().rename(nombre_tienda)\n",
        "    return promedio_anual"
      ],
      "metadata": {
        "id": "LI0CQIH_uAIt"
      },
      "execution_count": 31,
      "outputs": []
    },
    {
      "cell_type": "code",
      "source": [
        "eval_t1 = promedio_evaluacion_anual(tienda1, 'Tienda 1')\n",
        "eval_t2 = promedio_evaluacion_anual(tienda2, 'Tienda 2')\n",
        "eval_t3 = promedio_evaluacion_anual(tienda3, 'Tienda 3')\n",
        "eval_t4 = promedio_evaluacion_anual(tienda4, 'Tienda 4')"
      ],
      "metadata": {
        "id": "G6r_ndIyuK92"
      },
      "execution_count": 32,
      "outputs": []
    },
    {
      "cell_type": "code",
      "source": [
        "df_evaluaciones = pd.concat([eval_t1, eval_t2, eval_t3, eval_t4], axis=1)"
      ],
      "metadata": {
        "id": "AeYuKEfz7CqE"
      },
      "execution_count": 33,
      "outputs": []
    },
    {
      "cell_type": "code",
      "source": [
        "fila_totales = pd.DataFrame({'Tienda 1': [prom_t1], 'Tienda 2': [prom_t2], 'Tienda 3': [prom_t3], 'Tienda 4': [prom_t4]}, index=['Totales'])"
      ],
      "metadata": {
        "id": "Htv1F3pR9Gdu"
      },
      "execution_count": 34,
      "outputs": []
    },
    {
      "cell_type": "code",
      "source": [
        "df_evaluaciones = pd.concat([df_evaluaciones, fila_totales])"
      ],
      "metadata": {
        "id": "Jp5kn6IJ730u"
      },
      "execution_count": 35,
      "outputs": []
    },
    {
      "cell_type": "code",
      "source": [
        "df_evaluaciones = df_evaluaciones.round(2)"
      ],
      "metadata": {
        "id": "wVUcsqQY7lRj"
      },
      "execution_count": 36,
      "outputs": []
    },
    {
      "cell_type": "code",
      "source": [
        "print(\"Promedio de evaluación por año segun tienda:\")\n",
        "print(df_evaluaciones)"
      ],
      "metadata": {
        "colab": {
          "base_uri": "https://localhost:8080/"
        },
        "id": "QmOg9A5yuYyV",
        "outputId": "aa3a09c2-7db6-4286-a2cd-dc0249620b4a"
      },
      "execution_count": 37,
      "outputs": [
        {
          "output_type": "stream",
          "name": "stdout",
          "text": [
            "Promedio de evaluación por año segun tienda:\n",
            "         Tienda 1  Tienda 2  Tienda 3  Tienda 4\n",
            "2020         3.93      4.04      4.12      4.02\n",
            "2021         3.96      4.00      3.93      3.96\n",
            "2022         4.04      4.10      4.09      3.97\n",
            "2023         3.96      3.96      4.08      4.17\n",
            "Totales      3.98      4.04      4.05      4.00\n"
          ]
        }
      ]
    },
    {
      "cell_type": "markdown",
      "source": [
        "# 4. Productos más y menos vendidos"
      ],
      "metadata": {
        "id": "DmNp1KPBZCm-"
      }
    },
    {
      "cell_type": "code",
      "source": [
        "def productos_mas_menos_vendidos(df, nombre_tienda, top_n=1):\n",
        "    conteo_productos = df['Producto'].value_counts()\n",
        "\n",
        "    mas_vendido = conteo_productos.head(top_n)\n",
        "    menos_vendido = conteo_productos[conteo_productos == conteo_productos.min()].head(top_n)\n",
        "\n",
        "    print(f\"Producto(s) más vendido(s) en {nombre_tienda}:\")\n",
        "    print(mas_vendido)\n",
        "\n",
        "    print(f\"Producto(s) menos vendido(s) en {nombre_tienda}:\")\n",
        "    print(menos_vendido)\n",
        "\n",
        "    return mas_vendido, menos_vendido"
      ],
      "metadata": {
        "id": "qoyjqijQZHfF"
      },
      "execution_count": 64,
      "outputs": []
    },
    {
      "cell_type": "code",
      "source": [
        "prod_t1 = productos_mas_menos_vendidos(tienda1, 'Tienda 1')\n",
        "prod_t2 = productos_mas_menos_vendidos(tienda2, 'Tienda 2')\n",
        "prod_t3 = productos_mas_menos_vendidos(tienda3, 'Tienda 3')\n",
        "prod_t4 = productos_mas_menos_vendidos(tienda4, 'Tienda 4')"
      ],
      "metadata": {
        "colab": {
          "base_uri": "https://localhost:8080/"
        },
        "id": "8lhiAcMu4vpx",
        "outputId": "49abdb1f-dc37-45e5-a4c3-1850368bc848"
      },
      "execution_count": 65,
      "outputs": [
        {
          "output_type": "stream",
          "name": "stdout",
          "text": [
            "Producto(s) más vendido(s) en Tienda 1:\n",
            "Producto\n",
            "Microondas    60\n",
            "Name: count, dtype: int64\n",
            "Producto(s) menos vendido(s) en Tienda 1:\n",
            "Producto\n",
            "Auriculares con micrófono    33\n",
            "Name: count, dtype: int64\n",
            "Producto(s) más vendido(s) en Tienda 2:\n",
            "Producto\n",
            "Iniciando en programación    65\n",
            "Name: count, dtype: int64\n",
            "Producto(s) menos vendido(s) en Tienda 2:\n",
            "Producto\n",
            "Juego de mesa    32\n",
            "Name: count, dtype: int64\n",
            "Producto(s) más vendido(s) en Tienda 3:\n",
            "Producto\n",
            "Kit de bancas    57\n",
            "Name: count, dtype: int64\n",
            "Producto(s) menos vendido(s) en Tienda 3:\n",
            "Producto\n",
            "Bloques de construcción    35\n",
            "Name: count, dtype: int64\n",
            "Producto(s) más vendido(s) en Tienda 4:\n",
            "Producto\n",
            "Cama box    62\n",
            "Name: count, dtype: int64\n",
            "Producto(s) menos vendido(s) en Tienda 4:\n",
            "Producto\n",
            "Guitarra eléctrica    33\n",
            "Name: count, dtype: int64\n"
          ]
        }
      ]
    },
    {
      "cell_type": "code",
      "source": [
        "import pandas as pd\n",
        "\n",
        "# Crear la tabla con precios incluidos\n",
        "datos = [\n",
        "    {\n",
        "        \"Tienda\": \"Tienda 1\",\n",
        "        \"Más vendido\": prod_t1[0].index[0],\n",
        "        \"Unidades (más)\": prod_t1[0].values[0],\n",
        "        \"Precio promedio (más)\": tienda1[tienda1['Producto'] == prod_t1[0].index[0]]['Precio'].mean(),\n",
        "        \"Menos vendido\": prod_t1[1].index[0],\n",
        "        \"Unidades (menos)\": prod_t1[1].values[0],\n",
        "        \"Precio promedio (menos)\": tienda1[tienda1['Producto'] == prod_t1[1].index[0]]['Precio'].mean(),\n",
        "    },\n",
        "    {\n",
        "        \"Tienda\": \"Tienda 2\",\n",
        "        \"Más vendido\": prod_t2[0].index[0],\n",
        "        \"Unidades (más)\": prod_t2[0].values[0],\n",
        "        \"Precio promedio (más)\": tienda2[tienda2['Producto'] == prod_t2[0].index[0]]['Precio'].mean(),\n",
        "        \"Menos vendido\": prod_t2[1].index[0],\n",
        "        \"Unidades (menos)\": prod_t2[1].values[0],\n",
        "        \"Precio promedio (menos)\": tienda2[tienda2['Producto'] == prod_t2[1].index[0]]['Precio'].mean(),\n",
        "    },\n",
        "    {\n",
        "        \"Tienda\": \"Tienda 3\",\n",
        "        \"Más vendido\": prod_t3[0].index[0],\n",
        "        \"Unidades (más)\": prod_t3[0].values[0],\n",
        "        \"Precio promedio (más)\": tienda3[tienda3['Producto'] == prod_t3[0].index[0]]['Precio'].mean(),\n",
        "        \"Menos vendido\": prod_t3[1].index[0],\n",
        "        \"Unidades (menos)\": prod_t3[1].values[0],\n",
        "        \"Precio promedio (menos)\": tienda3[tienda3['Producto'] == prod_t3[1].index[0]]['Precio'].mean(),\n",
        "    },\n",
        "    {\n",
        "        \"Tienda\": \"Tienda 4\",\n",
        "        \"Más vendido\": prod_t4[0].index[0],\n",
        "        \"Unidades (más)\": prod_t4[0].values[0],\n",
        "        \"Precio promedio (más)\": tienda4[tienda4['Producto'] == prod_t4[0].index[0]]['Precio'].mean(),\n",
        "        \"Menos vendido\": prod_t4[1].index[0],\n",
        "        \"Unidades (menos)\": prod_t4[1].values[0],\n",
        "        \"Precio promedio (menos)\": tienda4[tienda4['Producto'] == prod_t4[1].index[0]]['Precio'].mean(),\n",
        "    }\n",
        "]"
      ],
      "metadata": {
        "id": "R_VWPjDee1Jj"
      },
      "execution_count": 58,
      "outputs": []
    },
    {
      "cell_type": "code",
      "source": [
        "tabla_comparativa = pd.DataFrame(datos)\n",
        "print(\"Tabla comparativa de producto más y menos vendido por tienda:\")"
      ],
      "metadata": {
        "colab": {
          "base_uri": "https://localhost:8080/"
        },
        "id": "4N2jj2_ke75u",
        "outputId": "5cc844c3-ba4a-4732-9657-67333530122d"
      },
      "execution_count": 59,
      "outputs": [
        {
          "output_type": "stream",
          "name": "stdout",
          "text": [
            "Tabla comparativa de producto más y menos vendido por tienda:\n",
            "     Tienda                Más vendido  Unidades (más)  Precio promedio (más)  \\\n",
            "0  Tienda 1                 Microondas              60          579358.333333   \n",
            "1  Tienda 2  Iniciando en programación              65           48120.000000   \n",
            "2  Tienda 3              Kit de bancas              57          292978.947368   \n",
            "3  Tienda 4                   Cama box              62          531391.935484   \n",
            "\n",
            "               Menos vendido  Unidades (menos)  Precio promedio (menos)  \n",
            "0  Auriculares con micrófono                33            143357.575758  \n",
            "1              Juego de mesa                32            181621.875000  \n",
            "2    Bloques de construcción                35             35348.571429  \n",
            "3         Guitarra eléctrica                33            782518.181818  \n"
          ]
        }
      ]
    },
    {
      "cell_type": "code",
      "source": [
        "tabla_comparativa[\"Precio promedio (más)\"] = tabla_comparativa[\"Precio promedio (más)\"].round(2)\n",
        "tabla_comparativa[\"Precio promedio (menos)\"] = tabla_comparativa[\"Precio promedio (menos)\"].round(2)"
      ],
      "metadata": {
        "id": "kwyc8esyjpek"
      },
      "execution_count": 60,
      "outputs": []
    },
    {
      "cell_type": "code",
      "source": [
        "print(tabla_comparativa)"
      ],
      "metadata": {
        "colab": {
          "base_uri": "https://localhost:8080/"
        },
        "id": "ili927ETgm-Y",
        "outputId": "2a5ceebe-95ae-47b0-85ba-3f59ce41a347"
      },
      "execution_count": 62,
      "outputs": [
        {
          "output_type": "stream",
          "name": "stdout",
          "text": [
            "     Tienda                Más vendido  Unidades (más)  Precio promedio (más)  \\\n",
            "0  Tienda 1                 Microondas              60              579358.33   \n",
            "1  Tienda 2  Iniciando en programación              65               48120.00   \n",
            "2  Tienda 3              Kit de bancas              57              292978.95   \n",
            "3  Tienda 4                   Cama box              62              531391.94   \n",
            "\n",
            "               Menos vendido  Unidades (menos)  Precio promedio (menos)  \n",
            "0  Auriculares con micrófono                33                143357.58  \n",
            "1              Juego de mesa                32                181621.88  \n",
            "2    Bloques de construcción                35                 35348.57  \n",
            "3         Guitarra eléctrica                33                782518.18  \n"
          ]
        }
      ]
    },
    {
      "cell_type": "markdown",
      "source": [
        "# 5. Envío promedio por tienda"
      ],
      "metadata": {
        "id": "Fl0cGi3bZKqU"
      }
    },
    {
      "cell_type": "code",
      "source": [
        "def costo_promedio_envio(df, nombre_tienda):\n",
        "    promedio_envio = df['Costo de envío'].mean()\n",
        "    print(f\"Costo promedio de envío en {nombre_tienda}: ${promedio_envio:.2f}\")\n",
        "    return promedio_envio"
      ],
      "metadata": {
        "id": "S2JeaCykZNy9"
      },
      "execution_count": 40,
      "outputs": []
    },
    {
      "cell_type": "code",
      "source": [
        "envio_t1 = costo_promedio_envio(tienda1, 'Tienda 1')\n",
        "envio_t2 = costo_promedio_envio(tienda2, 'Tienda 2')\n",
        "envio_t3 = costo_promedio_envio(tienda3, 'Tienda 3')\n",
        "envio_t4 = costo_promedio_envio(tienda4, 'Tienda 4')"
      ],
      "metadata": {
        "id": "0tSdCie9ZQlt",
        "colab": {
          "base_uri": "https://localhost:8080/"
        },
        "outputId": "6f9adada-580c-4d25-ca6a-149182240672"
      },
      "execution_count": 41,
      "outputs": [
        {
          "output_type": "stream",
          "name": "stdout",
          "text": [
            "Costo promedio de envío en Tienda 1: $26018.61\n",
            "Costo promedio de envío en Tienda 2: $25216.24\n",
            "Costo promedio de envío en Tienda 3: $24805.68\n",
            "Costo promedio de envío en Tienda 4: $23459.46\n"
          ]
        }
      ]
    },
    {
      "cell_type": "code",
      "source": [
        "envios = pd.DataFrame({\n",
        "    'Tienda': ['Tienda 1', 'Tienda 2', 'Tienda 3', 'Tienda 4'],\n",
        "    'Costo Promedio de Envío': [envio_t1, envio_t2, envio_t3, envio_t4]\n",
        "}).sort_values(by='Costo Promedio de Envío')"
      ],
      "metadata": {
        "id": "IA667xMdhSMt"
      },
      "execution_count": 42,
      "outputs": []
    },
    {
      "cell_type": "code",
      "source": [
        "envios = envios.round(2)"
      ],
      "metadata": {
        "id": "Ux2yVH51wJL4"
      },
      "execution_count": 43,
      "outputs": []
    },
    {
      "cell_type": "code",
      "source": [
        "print(\"\\nResumen de costo promedio de envío por tienda:\")\n",
        "print(envios)"
      ],
      "metadata": {
        "colab": {
          "base_uri": "https://localhost:8080/"
        },
        "id": "eRDHcOUowIew",
        "outputId": "ebdec79b-ad86-4dfc-cbf6-3c41c73ffe95"
      },
      "execution_count": 44,
      "outputs": [
        {
          "output_type": "stream",
          "name": "stdout",
          "text": [
            "\n",
            "Resumen de costo promedio de envío por tienda:\n",
            "     Tienda  Costo Promedio de Envío\n",
            "3  Tienda 4                 23459.46\n",
            "2  Tienda 3                 24805.68\n",
            "1  Tienda 2                 25216.24\n",
            "0  Tienda 1                 26018.61\n"
          ]
        }
      ]
    },
    {
      "cell_type": "markdown",
      "source": [
        "# Recomendación a partir del análisis"
      ],
      "metadata": {
        "id": "ANZBrZq0nHrk"
      }
    },
    {
      "cell_type": "code",
      "source": [
        "print(\"Al observar la información generada, se encuentra que la tienda con menor facturación anual es la Tienda 4, y este bajo desempeño en la facturación se observó desde el 2021.\")\n",
        "print(\"Facturación total por año según tienda:\")\n",
        "print(df_anual)\n",
        "print(\" \")\n",
        "print(\"Asimismo, al desglosar la información por popularidad de categoría, se encuentra que las dos categorías más populares en todas las tiendas son Muebles y Electrónicos.\")\n",
        "print(\"Top 5 categorías más populares por tienda:\")\n",
        "print(df_categorias)\n",
        "print(\" \")\n",
        "print(\"Aunque la Tienda 4 tiene alta popularidad en la venta de productos de la categoría de Electrónicos, sus ventas son significativamente bajas en la categoría Electrodomésticas, la cual es la categoría que mayor rendimiento genera\")\n",
        "print(\"Precio promedio por categoría\")\n",
        "print(precio_promedio_por_categoria)\n",
        "print(\" \")\n",
        "print(\"Respecto a la evaluación que realiza el cliente sobre su experiencia de compra, la tienda 4 es la segunda con peor rendimiento a pesar de su mejora en los últimos 3 años y su destacado rendimiento en lo que va del año del 2023.\")\n",
        "print(\"Promedio de evaluación por año según tienda:\")\n",
        "print(df_evaluaciones)\n",
        "print(\" \")\n",
        "print(\"Además, al comparar los productos más vendidos y menos vendidos por tienda, se encuentra que en todas las tiendas el producto menos vendido siempre tiene un precio menor que los productos más vendidos, a excepción de la tienda 4. En la tienda 4, el precio del producto menos vendido sobre pasa notablemente el precio del producto más vendido, lo cual genera un menor retorno a comparación de las otras tiendas.\")\n",
        "print(\"Tabla comparativa de producto más y menos vendido por tienda:\")\n",
        "print(tabla_comparativa)\n",
        "print(\" \")\n",
        "print(\"Finalmente, la tienda con menores costos promedios de envío es la Tienda 4. Aunque esto se interpreta como un signo positivo, también podría atribuirse a que los productos más rentables, como los Electrodomésticos, son los que más costo generan en envío.\")\n",
        "print(\"Resumen de costo promedio de envío por tienda:\")\n",
        "print(envios)\n",
        "print(\" \")\n",
        "print(\"Por ello, la Tienda que es menos rentable es la Tienda 4, y debe ser la que se debería poner a la venta.\")"
      ],
      "metadata": {
        "colab": {
          "base_uri": "https://localhost:8080/"
        },
        "id": "mH2tL4t5w2Br",
        "outputId": "887c905c-f2a7-4584-80c7-e8af16c3c3a7"
      },
      "execution_count": 63,
      "outputs": [
        {
          "output_type": "stream",
          "name": "stdout",
          "text": [
            "Al observar la información generada, se encuentra que la tienda con menor facturación anual es la Tienda 4, y este bajo desempeño en la facturación se observó desde el 2021.\n",
            "Facturación total por año según tienda:\n",
            "        Tienda 1   Tienda 2   Tienda 3   Tienda 4\n",
            "Año                                              \n",
            "2020    368933.2   320466.6   321707.5   330847.7\n",
            "2021    362120.8   351215.5   362954.4   347823.6\n",
            "2022    316565.6   358226.5   350438.3   302221.5\n",
            "2023    103260.8    86434.9    62919.4    57482.9\n",
            "Total  1150880.4  1116343.5  1098019.6  1038375.7\n",
            " \n",
            "Asimismo, al desglosar la información por popularidad de categoría, se encuentra que las dos categorías más populares en todas las tiendas son Muebles y Electrónicos.\n",
            "Top 5 categorías más populares por tienda:\n",
            "                        Tienda 1  Tienda 2  Tienda 3  Tienda 4  Total\n",
            "Categoría del Producto                                               \n",
            "Muebles                      465       442       499       480   1886\n",
            "Electrónicos                 448       422       451       451   1772\n",
            "Juguetes                     324       313       315       338   1290\n",
            "Electrodomésticos            312       305       278       254   1149\n",
            "Deportes y diversión         284       275       277       277   1113\n",
            " \n",
            "Aunque la Tienda 4 tiene alta popularidad en la venta de productos de la categoría de Electrónicos, sus ventas son significativamente bajas en la categoría Electrodomésticas, la cual es la categoría que mayor rendimiento genera\n",
            "Precio promedio por categoría\n",
            "    Categoría del Producto        Precio\n",
            "2        Electrodomésticos  1.152960e+06\n",
            "3             Electrónicos  9.371199e+05\n",
            "4   Instrumentos musicales  4.631774e+05\n",
            "7                  Muebles  4.017291e+05\n",
            "1     Deportes y diversión  1.284615e+05\n",
            "0  Artículos para el hogar  7.887644e+04\n",
            "5                 Juguetes  5.705767e+04\n",
            "6                   Libros  5.080337e+04\n",
            " \n",
            "Respecto a la evaluación que realiza el cliente sobre su experiencia de compra, la tienda 4 es la segunda con peor rendimiento a pesar de su mejora en los últimos 3 años y su destacado rendimiento en lo que va del año del 2023.\n",
            "Promedio de evaluación por año según tienda:\n",
            "         Tienda 1  Tienda 2  Tienda 3  Tienda 4\n",
            "2020         3.93      4.04      4.12      4.02\n",
            "2021         3.96      4.00      3.93      3.96\n",
            "2022         4.04      4.10      4.09      3.97\n",
            "2023         3.96      3.96      4.08      4.17\n",
            "Totales      3.98      4.04      4.05      4.00\n",
            " \n",
            "Además, al comparar los productos más vendidos y menos vendidos por tienda, se encuentra que en todas las tiendas el producto menos vendido siempre tiene un precio menor que los productos más vendidos, a excepción de la tienda 4. En la tienda 4, el precio del producto menos vendido sobre pasa notablemente el precio del producto más vendido, lo cual genera un menor retorno a comparación de las otras tiendas.\n",
            "Tabla comparativa de producto más y menos vendido por tienda:\n",
            "     Tienda                Más vendido  Unidades (más)  Precio promedio (más)  \\\n",
            "0  Tienda 1                 Microondas              60              579358.33   \n",
            "1  Tienda 2  Iniciando en programación              65               48120.00   \n",
            "2  Tienda 3              Kit de bancas              57              292978.95   \n",
            "3  Tienda 4                   Cama box              62              531391.94   \n",
            "\n",
            "               Menos vendido  Unidades (menos)  Precio promedio (menos)  \n",
            "0  Auriculares con micrófono                33                143357.58  \n",
            "1              Juego de mesa                32                181621.88  \n",
            "2    Bloques de construcción                35                 35348.57  \n",
            "3         Guitarra eléctrica                33                782518.18  \n",
            " \n",
            "Finalmente, la tienda con menores costos promedios de envío es la Tienda 4. Aunque esto se interpreta como un signo positivo, también podría atribuirse a que los productos más rentables, como los Electrodomésticos, son los que más costo generan en envío.\n",
            "Resumen de costo promedio de envío por tienda:\n",
            "     Tienda  Costo Promedio de Envío\n",
            "3  Tienda 4                 23459.46\n",
            "2  Tienda 3                 24805.68\n",
            "1  Tienda 2                 25216.24\n",
            "0  Tienda 1                 26018.61\n",
            " \n",
            "Por ello, la Tienda que es menos rentable es la Tienda 4, y debe ser la que se debería poner a la venta.\n"
          ]
        }
      ]
    }
  ]
}